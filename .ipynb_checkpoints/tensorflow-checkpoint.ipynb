{
 "cells": [
  {
   "cell_type": "code",
   "execution_count": 1,
   "metadata": {},
   "outputs": [],
   "source": [
    "import pandas as pd\n",
    "import tensorflow as tf\n",
    "import numpy as np\n",
    "from sklearn.model_selection import KFold"
   ]
  },
  {
   "cell_type": "code",
   "execution_count": 2,
   "metadata": {},
   "outputs": [],
   "source": [
    "def weight_variable(shape):\n",
    "    initial = tf.truncated_normal(shape, stddev=0.1)\n",
    "    return tf.Variable(initial)\n",
    "\n",
    "\n",
    "def bias_variable(shape):\n",
    "    initial = tf.constant(0.1, shape=shape)\n",
    "    return tf.Variable(initial)\n",
    "\n",
    "\n",
    "def conv2d(x, W):\n",
    "    return tf.nn.conv2d(x, W, strides=[1, 1, 1, 1], padding='SAME', use_cudnn_on_gpu=False)\n",
    "\n",
    "\n",
    "def max_pool_2x2(x):\n",
    "    return tf.nn.max_pool(x, ksize=[1, 2, 2, 1], strides=[1, 2, 2, 1], padding='SAME')\n",
    "\n",
    "\n",
    "def charToNumpyArray(target_dataset):\n",
    "    array = []\n",
    "    for char in target_dataset:\n",
    "        target_array = np.zeros(26)\n",
    "        target_array[ord(char[0]) - 97] = 1\n",
    "        array.append(target_array)\n",
    "    return np.array(array)\n",
    "\n",
    "\n",
    "def numpyArrayToChar(array_target):\n",
    "    array = []\n",
    "    for a in array_target:\n",
    "        array.append(chr(a + 97))\n",
    "    return array"
   ]
  },
  {
   "cell_type": "code",
   "execution_count": 3,
   "metadata": {},
   "outputs": [
    {
     "name": "stdout",
     "output_type": "stream",
     "text": [
      "Load Dataset\n",
      "Data loaded...\n",
      "Data Preparation Phase\n"
     ]
    }
   ],
   "source": [
    "print(\"Load Dataset\")\n",
    "train_data = np.array(pd.read_csv(\"train-data.csv\", header=None))\n",
    "train_target = np.array(pd.read_csv(\"train-target.csv\", header=None))\n",
    "test_data = np.array(pd.read_csv(\"test-data.csv\", header=None))\n",
    "test_target = np.array(pd.read_csv(\"test-target.csv\", header=None))\n",
    "print(\"Data loaded...\")\n",
    "\n",
    "print(\"Data Preparation Phase\")\n",
    "\n",
    "train_target_array = charToNumpyArray(train_target)\n",
    "test_target_array = charToNumpyArray(test_target)\n",
    "\n",
    "x = tf.placeholder(tf.float32, [None, 128])\n",
    "y = tf.placeholder(tf.float32, [None, 26])\n",
    "\n",
    "W_conv1 = weight_variable([5, 5, 1, 32])\n",
    "b_conv1 = bias_variable([32])\n",
    "\n",
    "#Reshape of the image into 16x8 matrices\n",
    "x_image = tf.reshape(x, [-1, 16, 8, 1])\n",
    "\n",
    "h_conv1 = tf.nn.relu(conv2d(x_image, W_conv1) + b_conv1)\n",
    "h_pool1 = max_pool_2x2(h_conv1)\n",
    "\n",
    "W_conv2 = weight_variable([5, 5, 32, 64])\n",
    "b_conv2 = bias_variable([64])\n",
    "h_conv2 = tf.nn.relu(conv2d(h_pool1, W_conv2) + b_conv2)\n",
    "h_pool2 = max_pool_2x2(h_conv2)\n",
    "\n",
    "W_fc1 = weight_variable([4 * 2 * 64, 1024])\n",
    "b_fc1 = bias_variable([1024])\n",
    "\n",
    "h_pool2_flat = tf.reshape(h_pool2, [-1, 4*2*64])\n",
    "h_fc1 = tf.nn.relu(tf.matmul(h_pool2_flat, W_fc1) + b_fc1)\n",
    "\n",
    "keep_prob = tf.placeholder(tf.float32)\n",
    "h_fc1_drop = tf.nn.dropout(h_fc1, keep_prob)\n",
    "\n",
    "W_fc2 = weight_variable([1024, 26])\n",
    "b_fc2 = bias_variable([26])\n",
    "\n",
    "y_conv = tf.matmul(h_fc1_drop, W_fc2) + b_fc2\n",
    "y_hat = tf.nn.softmax(y_conv)\n",
    "\n",
    "cross_entropy = tf.reduce_mean(-tf.reduce_sum(y * tf.log(y_hat), reduction_indices=[1]))\n",
    "\n",
    "predicted_y = tf.argmax(y_hat, 1)\n",
    "real_y = tf.argmax(y, 1)\n",
    "correct_prediction = tf.equal(predicted_y, real_y)\n",
    "accuracy = tf.reduce_mean(tf.cast(correct_prediction, tf.float32))\n",
    "\n",
    "sess = tf.Session()\n",
    "init = tf.global_variables_initializer()"
   ]
  },
  {
   "cell_type": "code",
   "execution_count": 4,
   "metadata": {},
   "outputs": [],
   "source": [
    "def run_train_batch(sess, train_x, train_y, opt, batch):\n",
    "    sess.run(init)\n",
    "    for epoch in range(10):\n",
    "        total_batch = int(train_x.shape[0] / batch)\n",
    "        for i in range(total_batch):\n",
    "            batch_x = train_x[i*batch:(i+1)*batch]\n",
    "            batch_y = train_y[i*batch:(i+1)*batch]\n",
    "            sess.run(opt, feed_dict={x: batch_x, y: batch_y, keep_prob: 0.9})\n",
    "\n",
    "def cross_validation_over_batch(sess, learning_rate, train_data, train_target, batch_size):\n",
    "    accuracy_list = []\n",
    "    kf = KFold(n_splits=3)\n",
    "    sess.run(init)\n",
    "    #Train with gradient Descent Optimizer\n",
    "    opt = tf.train.GradientDescentOptimizer(learning_rate=0.03).minimize(cross_entropy)\n",
    "    i = 0\n",
    "    for i_t, i_v in kf.split(train_data, train_target):\n",
    "        print(\"\\t\\tLearning rate = \" + str(learning_rate) + \" N. fold = \" + str(i))\n",
    "        train_in = train_data[i_t]\n",
    "        train_out = train_target[i_t]\n",
    "        \n",
    "        run_train_batch(sess, train_in, train_out, opt, batch_size)\n",
    "        acc = sess.run(accuracy, feed_dict={x: train_data[i_v], y: train_target[i_v], keep_prob: 0.9})\n",
    "        print(\"\\t\\tAccuracy: \" + str(acc) + \" N. fold = \" + str(i) + '\\n')\n",
    "        accuracy_list.append(acc)\n",
    "        i += 1\n",
    "    return np.mean(accuracy_list)\n"
   ]
  },
  {
   "cell_type": "code",
   "execution_count": 5,
   "metadata": {},
   "outputs": [
    {
     "name": "stdout",
     "output_type": "stream",
     "text": [
      "Cross Validation with different learning rates with GradientDescentOptimizer\n",
      "\tBatch 400\n",
      "\t\tLearning rate = 0.03 N. fold = 0\n",
      "\t\tAccuracy: 0.8359819 N. fold = 0\n",
      "\n",
      "\t\tLearning rate = 0.03 N. fold = 1\n",
      "\t\tAccuracy: 0.8441073 N. fold = 1\n",
      "\n",
      "\t\tLearning rate = 0.03 N. fold = 2\n",
      "\t\tAccuracy: 0.8387143 N. fold = 2\n",
      "\n",
      "\tMean Accuracy = 0.8396012 batch number: 400\n",
      "\tBatch 500\n",
      "\t\tLearning rate = 0.03 N. fold = 0\n",
      "\t\tAccuracy: 0.82907885 N. fold = 0\n",
      "\n",
      "\t\tLearning rate = 0.03 N. fold = 1\n",
      "\t\tAccuracy: 0.8308765 N. fold = 1\n",
      "\n",
      "\t\tLearning rate = 0.03 N. fold = 2\n",
      "\t\tAccuracy: 0.830517 N. fold = 2\n",
      "\n",
      "\tMean Accuracy = 0.83015746 batch number: 500\n",
      "\tBatch 600\n",
      "\t\tLearning rate = 0.03 N. fold = 0\n",
      "\t\tAccuracy: 0.81642336 N. fold = 0\n",
      "\n",
      "\t\tLearning rate = 0.03 N. fold = 1\n",
      "\t\tAccuracy: 0.82066584 N. fold = 1\n",
      "\n",
      "\t\tLearning rate = 0.03 N. fold = 2\n",
      "\t\tAccuracy: 0.81476957 N. fold = 2\n",
      "\n",
      "\tMean Accuracy = 0.81728625 batch number: 600\n",
      "Accuracy scores: \n",
      "[0.8396012, 0.83015746, 0.81728625]\n"
     ]
    }
   ],
   "source": [
    "#Cross Validation over batch size\n",
    "print(\"Cross Validation with different learning rates with GradientDescentOptimizer\")\n",
    "learning_rate = 0.03\n",
    "accuracy_scores = []\n",
    "batches = [400, 500, 600]\n",
    "\n",
    "for i in batches:\n",
    "    print(\"\\tBatch \" + str(i))\n",
    "    accuracy_out = cross_validation_over_batch(sess, learning_rate, train_data, train_target_array, i)\n",
    "    accuracy_scores.append(accuracy_out)\n",
    "    print(\"\\tMean Accuracy = \" + str(accuracy_out) + \" batch number: \" + str(i))\n",
    "\n",
    "print('Accuracy scores: \\n' + str(accuracy_scores))"
   ]
  },
  {
   "cell_type": "code",
   "execution_count": 6,
   "metadata": {},
   "outputs": [
    {
     "name": "stdout",
     "output_type": "stream",
     "text": [
      "Training with the best accuracy score index\n",
      "Best batch number selected = 0\n",
      "TRAINING using Gradient Descent Optimizer\n",
      "Testing\n"
     ]
    }
   ],
   "source": [
    "print(\"Training with the best accuracy score index\")\n",
    "\n",
    "best_batch = np.array(accuracy_scores).argmax()\n",
    "print(\"Best batch number selected = \" + str(best_batch))\n",
    "\n",
    "#Training phase\n",
    "print(\"TRAINING using Gradient Descent Optimizer\")\n",
    "train_step = tf.train.GradientDescentOptimizer(learning_rate=learning_rate).minimize(cross_entropy)\n",
    "run_train_batch(sess, train_data, train_target_array, train_step, batches[best_batch])\n",
    "\n",
    "print(\"Testing\")\n",
    "accuracy, array_test_hat = sess.run([accuracy, predicted_y], feed_dict={x: test_data, y: test_target_array, keep_prob: 0.9})"
   ]
  },
  {
   "cell_type": "code",
   "execution_count": 7,
   "metadata": {},
   "outputs": [
    {
     "name": "stdout",
     "output_type": "stream",
     "text": [
      "\tData target converting\n",
      "Accuracy: 0.8656888\n",
      "Save predicted labels\n"
     ]
    }
   ],
   "source": [
    "print(\"\\tData target converting\")\n",
    "test_hat = numpyArrayToChar(array_test_hat)\n",
    "\n",
    "print(\"Accuracy: \" + str(accuracy))\n",
    "\n",
    "print(\"Save predicted labels\")\n",
    "f = open(\"labels.txt\", 'w')\n",
    "for out in test_hat:\n",
    "    f.write(out + \"\\n\")\n",
    "f.close()"
   ]
  }
 ],
 "metadata": {
  "kernelspec": {
   "display_name": "Python 3",
   "language": "python",
   "name": "python3"
  },
  "language_info": {
   "codemirror_mode": {
    "name": "ipython",
    "version": 2
   },
   "file_extension": ".py",
   "mimetype": "text/x-python",
   "name": "python",
   "nbconvert_exporter": "python",
   "pygments_lexer": "ipython2",
   "version": "2.7.15"
  }
 },
 "nbformat": 4,
 "nbformat_minor": 2
}
